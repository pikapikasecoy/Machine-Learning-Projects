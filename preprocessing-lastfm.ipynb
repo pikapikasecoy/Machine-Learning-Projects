{
 "cells": [
  {
   "cell_type": "markdown",
   "metadata": {},
   "source": [
    "# Task 4 - Group 7\n",
    "## April Qianyun Li - lastfm Preprocessing\n",
    "\n",
    "#### Preprocessing Goal:\n",
    "* Read json files in all folders from s3 bucket to a single dataframe\n",
    "* Extract Top 10 similar tracks, and unwind their track_ids and corresponding similarity scores to separate columns.\n",
    "* Extract the top 1 tag from the tags array\n",
    "* Drop tracks with no tags\n",
    "\n",
    "#### Possible Analytics Goals with this dataset:\n",
    "ML Related:\n",
    "* Tags Classification with similar tracks' tags and similar scores, compared with tags classification using lyrics\n",
    "* Sentiment Classification using tags, similar tracks' tags and similar scores, compared with sentiment classfication using lyrics\n",
    "\n",
    "Non-ML Related:\n",
    "* Arstist Sentiment Analysis\n",
    "* Tags Sentiment Analysis"
   ]
  },
  {
   "cell_type": "code",
   "execution_count": 1,
   "metadata": {},
   "outputs": [
    {
     "data": {
      "application/vnd.jupyter.widget-view+json": {
       "model_id": "",
       "version_major": 2,
       "version_minor": 0
      },
      "text/plain": [
       "VBox()"
      ]
     },
     "metadata": {},
     "output_type": "display_data"
    },
    {
     "name": "stdout",
     "output_type": "stream",
     "text": [
      "Starting Spark application\n"
     ]
    },
    {
     "data": {
      "text/html": [
       "<table>\n",
       "<tr><th>ID</th><th>YARN Application ID</th><th>Kind</th><th>State</th><th>Spark UI</th><th>Driver log</th><th>Current session?</th></tr><tr><td>13</td><td>application_1614556309029_0014</td><td>pyspark</td><td>idle</td><td><a target=\"_blank\" href=\"http://ip-172-31-7-2.us-west-1.compute.internal:20888/proxy/application_1614556309029_0014/\">Link</a></td><td><a target=\"_blank\" href=\"http://ip-172-31-7-111.us-west-1.compute.internal:8042/node/containerlogs/container_1614556309029_0014_01_000001/livy\">Link</a></td><td>✔</td></tr></table>"
      ],
      "text/plain": [
       "<IPython.core.display.HTML object>"
      ]
     },
     "metadata": {},
     "output_type": "display_data"
    },
    {
     "data": {
      "application/vnd.jupyter.widget-view+json": {
       "model_id": "",
       "version_major": 2,
       "version_minor": 0
      },
      "text/plain": [
       "FloatProgress(value=0.0, bar_style='info', description='Progress:', layout=Layout(height='25px', width='50%'),…"
      ]
     },
     "metadata": {},
     "output_type": "display_data"
    },
    {
     "name": "stdout",
     "output_type": "stream",
     "text": [
      "SparkSession available as 'spark'.\n"
     ]
    },
    {
     "data": {
      "application/vnd.jupyter.widget-view+json": {
       "model_id": "",
       "version_major": 2,
       "version_minor": 0
      },
      "text/plain": [
       "FloatProgress(value=0.0, bar_style='info', description='Progress:', layout=Layout(height='25px', width='50%'),…"
      ]
     },
     "metadata": {},
     "output_type": "display_data"
    }
   ],
   "source": [
    "from pyspark.sql import SparkSession\n",
    "from pyspark.sql.types import *\n",
    "from pyspark.sql import Row\n",
    "from pyspark.sql.functions import *\n",
    "\n",
    "ss = SparkSession.builder.getOrCreate()\n",
    "sc = ss.sparkContext"
   ]
  },
  {
   "cell_type": "code",
   "execution_count": 2,
   "metadata": {},
   "outputs": [
    {
     "data": {
      "application/vnd.jupyter.widget-view+json": {
       "model_id": "b1f700fe670b42328c0cda5d982bae27",
       "version_major": 2,
       "version_minor": 0
      },
      "text/plain": [
       "VBox()"
      ]
     },
     "metadata": {},
     "output_type": "display_data"
    },
    {
     "data": {
      "application/vnd.jupyter.widget-view+json": {
       "model_id": "",
       "version_major": 2,
       "version_minor": 0
      },
      "text/plain": [
       "FloatProgress(value=0.0, bar_style='info', description='Progress:', layout=Layout(height='25px', width='50%'),…"
      ]
     },
     "metadata": {},
     "output_type": "display_data"
    }
   ],
   "source": [
    "def similarity_preprocessing(df):\n",
    "    df = df.select(\"track_id\", \"title\", \"artist\", \"tags\", \"similars\")\n",
    "    for i in range(10):\n",
    "        df = df.withColumn(f\"similar_{i+1}_trackid\", df[\"similars\"][i][0])\n",
    "        df = df.withColumn(f\"similar_{i+1}_score\", df[\"similars\"][i][1])\n",
    "\n",
    "    df = df.withColumn(f\"top_tag\", df[\"tags\"][0][0]).drop(\"similars\").dropna()\n",
    "    return df"
   ]
  },
  {
   "cell_type": "markdown",
   "metadata": {},
   "source": [
    "# Data Clean by Folder"
   ]
  },
  {
   "cell_type": "code",
   "execution_count": 3,
   "metadata": {
    "scrolled": true
   },
   "outputs": [
    {
     "data": {
      "application/vnd.jupyter.widget-view+json": {
       "model_id": "f365b8891f6745f6ab83171e10228c04",
       "version_major": 2,
       "version_minor": 0
      },
      "text/plain": [
       "VBox()"
      ]
     },
     "metadata": {},
     "output_type": "display_data"
    },
    {
     "data": {
      "application/vnd.jupyter.widget-view+json": {
       "model_id": "",
       "version_major": 2,
       "version_minor": 0
      },
      "text/plain": [
       "FloatProgress(value=0.0, bar_style='info', description='Progress:', layout=Layout(height='25px', width='50%'),…"
      ]
     },
     "metadata": {},
     "output_type": "display_data"
    }
   ],
   "source": [
    "file_list = [\"A\", \"B\", \"C\", \"D\", \"E\",\n",
    "             \"F\", \"G\", \"H\", \"I\", \"J\",\n",
    "             \"K\", \"L\", \"M\", \"N\", \"O\",\n",
    "             \"P\", \"Q\", \"R\", \"S\", \"T\",\n",
    "             \"U\", \"V\", \"W\", \"X\", \"Y\", \"Z\"]\n",
    "for l in file_list:\n",
    "    lastfm_train_path = f\"s3a://msds694-final-group7/lastfm_train/{l}/*/*/\"\n",
    "    lastfm_test_path = f\"s3a://msds694-final-group7/lastfm_test/{l}/*/*/\"\n",
    "    lastfm_train = ss.read.json(lastfm_train_path)\n",
    "    lastfm_test = ss.read.json(lastfm_test_path)\n",
    "\n",
    "    lastfm_train_clean = similarity_preprocessing(lastfm_train)\n",
    "    lastfm_test_clean = similarity_preprocessing(lastfm_test)\n",
    "\n",
    "    output_train_file = f\"s3a://msds694-final-group7/lastfm_train_clean/{l}\"\n",
    "    output_test_file = f\"s3a://msds694-final-group7/lastfm_test_clean/{l}\"\n",
    "    lastfm_train_clean.write.parquet(output_train_file)\n",
    "    lastfm_test_clean.write.parquet(output_test_file)"
   ]
  },
  {
   "cell_type": "markdown",
   "metadata": {},
   "source": [
    "# Combine Parquets in Folders Together"
   ]
  },
  {
   "cell_type": "code",
   "execution_count": 2,
   "metadata": {},
   "outputs": [
    {
     "data": {
      "application/vnd.jupyter.widget-view+json": {
       "model_id": "7ab941229a9640ad8d2946c4a272a41d",
       "version_major": 2,
       "version_minor": 0
      },
      "text/plain": [
       "VBox()"
      ]
     },
     "metadata": {},
     "output_type": "display_data"
    },
    {
     "data": {
      "application/vnd.jupyter.widget-view+json": {
       "model_id": "",
       "version_major": 2,
       "version_minor": 0
      },
      "text/plain": [
       "FloatProgress(value=0.0, bar_style='info', description='Progress:', layout=Layout(height='25px', width='50%'),…"
      ]
     },
     "metadata": {},
     "output_type": "display_data"
    }
   ],
   "source": [
    "train_parquets_path = f\"s3a://msds694-final-group7/lastfm_train_clean/*\"\n",
    "test_parquets_path = f\"s3a://msds694-final-group7/lastfm_test_clean/*\"\n",
    "train = ss.read.parquet(train_parquets_path)\n",
    "test = ss.read.parquet(test_parquets_path)"
   ]
  },
  {
   "cell_type": "code",
   "execution_count": 7,
   "metadata": {},
   "outputs": [
    {
     "data": {
      "application/vnd.jupyter.widget-view+json": {
       "model_id": "2243fd39c80f487ca5e0f667f8675792",
       "version_major": 2,
       "version_minor": 0
      },
      "text/plain": [
       "VBox()"
      ]
     },
     "metadata": {},
     "output_type": "display_data"
    },
    {
     "data": {
      "application/vnd.jupyter.widget-view+json": {
       "model_id": "",
       "version_major": 2,
       "version_minor": 0
      },
      "text/plain": [
       "FloatProgress(value=0.0, bar_style='info', description='Progress:', layout=Layout(height='25px', width='50%'),…"
      ]
     },
     "metadata": {},
     "output_type": "display_data"
    },
    {
     "name": "stdout",
     "output_type": "stream",
     "text": [
      "347324"
     ]
    }
   ],
   "source": [
    "train.count()"
   ]
  },
  {
   "cell_type": "code",
   "execution_count": 5,
   "metadata": {},
   "outputs": [
    {
     "data": {
      "application/vnd.jupyter.widget-view+json": {
       "model_id": "e15ac38b500f47669b9db6113e70a3eb",
       "version_major": 2,
       "version_minor": 0
      },
      "text/plain": [
       "VBox()"
      ]
     },
     "metadata": {},
     "output_type": "display_data"
    },
    {
     "data": {
      "application/vnd.jupyter.widget-view+json": {
       "model_id": "",
       "version_major": 2,
       "version_minor": 0
      },
      "text/plain": [
       "FloatProgress(value=0.0, bar_style='info', description='Progress:', layout=Layout(height='25px', width='50%'),…"
      ]
     },
     "metadata": {},
     "output_type": "display_data"
    },
    {
     "name": "stdout",
     "output_type": "stream",
     "text": [
      "46239"
     ]
    }
   ],
   "source": [
    "test.count()"
   ]
  },
  {
   "cell_type": "code",
   "execution_count": 8,
   "metadata": {
    "scrolled": true
   },
   "outputs": [
    {
     "data": {
      "application/vnd.jupyter.widget-view+json": {
       "model_id": "7f1bd0f60f704fef9cd60ff5984a0c44",
       "version_major": 2,
       "version_minor": 0
      },
      "text/plain": [
       "VBox()"
      ]
     },
     "metadata": {},
     "output_type": "display_data"
    },
    {
     "data": {
      "application/vnd.jupyter.widget-view+json": {
       "model_id": "",
       "version_major": 2,
       "version_minor": 0
      },
      "text/plain": [
       "FloatProgress(value=0.0, bar_style='info', description='Progress:', layout=Layout(height='25px', width='50%'),…"
      ]
     },
     "metadata": {},
     "output_type": "display_data"
    }
   ],
   "source": [
    "train.write.parquet(\"s3a://msds694-final-group7/lastfm_train_clean/All\")\n",
    "test.write.parquet(\"s3a://msds694-final-group7/lastfm_test_clean/All\")"
   ]
  },
  {
   "cell_type": "markdown",
   "metadata": {},
   "source": [
    "# Read From S3 Parquet Test"
   ]
  },
  {
   "cell_type": "code",
   "execution_count": 2,
   "metadata": {},
   "outputs": [
    {
     "data": {
      "application/vnd.jupyter.widget-view+json": {
       "model_id": "f7eb763fdbfe4916a4529eaae3bb2fa9",
       "version_major": 2,
       "version_minor": 0
      },
      "text/plain": [
       "VBox()"
      ]
     },
     "metadata": {},
     "output_type": "display_data"
    },
    {
     "data": {
      "application/vnd.jupyter.widget-view+json": {
       "model_id": "",
       "version_major": 2,
       "version_minor": 0
      },
      "text/plain": [
       "FloatProgress(value=0.0, bar_style='info', description='Progress:', layout=Layout(height='25px', width='50%'),…"
      ]
     },
     "metadata": {},
     "output_type": "display_data"
    }
   ],
   "source": [
    "train_path = \"s3a://msds694-final-group7/lastfm_train_clean/All\"\n",
    "test_path = \"s3a://msds694-final-group7/lastfm_test_clean/All\"\n",
    "train = ss.read.parquet(train_path)"
   ]
  },
  {
   "cell_type": "code",
   "execution_count": 5,
   "metadata": {},
   "outputs": [
    {
     "data": {
      "application/vnd.jupyter.widget-view+json": {
       "model_id": "898bff4cb0b34f999979a792a390946f",
       "version_major": 2,
       "version_minor": 0
      },
      "text/plain": [
       "VBox()"
      ]
     },
     "metadata": {},
     "output_type": "display_data"
    },
    {
     "data": {
      "application/vnd.jupyter.widget-view+json": {
       "model_id": "",
       "version_major": 2,
       "version_minor": 0
      },
      "text/plain": [
       "FloatProgress(value=0.0, bar_style='info', description='Progress:', layout=Layout(height='25px', width='50%'),…"
      ]
     },
     "metadata": {},
     "output_type": "display_data"
    },
    {
     "name": "stdout",
     "output_type": "stream",
     "text": [
      "+------------------+--------+--------------+--------------------+------------------+---------------+------------------+---------------+------------------+---------------+------------------+---------------+------------------+---------------+------------------+---------------+------------------+---------------+------------------+---------------+------------------+---------------+------------------+----------------+--------+\n",
      "|          track_id|   title|        artist|                tags| similar_1_trackid|similar_1_score| similar_2_trackid|similar_2_score| similar_3_trackid|similar_3_score| similar_4_trackid|similar_4_score| similar_5_trackid|similar_5_score| similar_6_trackid|similar_6_score| similar_7_trackid|similar_7_score| similar_8_trackid|similar_8_score| similar_9_trackid|similar_9_score|similar_10_trackid|similar_10_score| top_tag|\n",
      "+------------------+--------+--------------+--------------------+------------------+---------------+------------------+---------------+------------------+---------------+------------------+---------------+------------------+---------------+------------------+---------------+------------------+---------------+------------------+---------------+------------------+---------------+------------------+----------------+--------+\n",
      "|TRONDRP128F936589C|On Board|Friendly Fires|[[new rave, 100],...|TRCYKSL128F4283D12|       0.995216|TRQKBTO128F42999C2|       0.148827|TRSDGIT128F934B49D|       0.147554|TRDSBIN12903CCB95B|       0.147554|TRCFKBD128F934B47F|       0.146796|TRIKEBB12903D06AC5|       0.146796|TRJXIJR128F92C6AF1|       0.144592|TRGYHQZ128F92C6AEF|       0.142932|TRNWQBB128F424D6E0|       0.142932|TRDBTXN128EF343A73|         0.14044|new rave|\n",
      "+------------------+--------+--------------+--------------------+------------------+---------------+------------------+---------------+------------------+---------------+------------------+---------------+------------------+---------------+------------------+---------------+------------------+---------------+------------------+---------------+------------------+---------------+------------------+----------------+--------+\n",
      "only showing top 1 row"
     ]
    }
   ],
   "source": [
    "train.show(1)"
   ]
  },
  {
   "cell_type": "code",
   "execution_count": 3,
   "metadata": {},
   "outputs": [
    {
     "data": {
      "application/vnd.jupyter.widget-view+json": {
       "model_id": "6b00446353c54f1eba292a50a1030639",
       "version_major": 2,
       "version_minor": 0
      },
      "text/plain": [
       "VBox()"
      ]
     },
     "metadata": {},
     "output_type": "display_data"
    },
    {
     "data": {
      "application/vnd.jupyter.widget-view+json": {
       "model_id": "",
       "version_major": 2,
       "version_minor": 0
      },
      "text/plain": [
       "FloatProgress(value=0.0, bar_style='info', description='Progress:', layout=Layout(height='25px', width='50%'),…"
      ]
     },
     "metadata": {},
     "output_type": "display_data"
    }
   ],
   "source": [
    "test = ss.read.parquet(test_path)"
   ]
  },
  {
   "cell_type": "code",
   "execution_count": 4,
   "metadata": {},
   "outputs": [
    {
     "data": {
      "application/vnd.jupyter.widget-view+json": {
       "model_id": "085443a91536476faa8606b71bb3216e",
       "version_major": 2,
       "version_minor": 0
      },
      "text/plain": [
       "VBox()"
      ]
     },
     "metadata": {},
     "output_type": "display_data"
    },
    {
     "data": {
      "application/vnd.jupyter.widget-view+json": {
       "model_id": "",
       "version_major": 2,
       "version_minor": 0
      },
      "text/plain": [
       "FloatProgress(value=0.0, bar_style='info', description='Progress:', layout=Layout(height='25px', width='50%'),…"
      ]
     },
     "metadata": {},
     "output_type": "display_data"
    },
    {
     "name": "stdout",
     "output_type": "stream",
     "text": [
      "+------------------+------------+---------------+--------------------+------------------+---------------+------------------+---------------+------------------+---------------+------------------+---------------+------------------+---------------+------------------+---------------+------------------+---------------+------------------+---------------+------------------+---------------+------------------+----------------+----------+\n",
      "|          track_id|       title|         artist|                tags| similar_1_trackid|similar_1_score| similar_2_trackid|similar_2_score| similar_3_trackid|similar_3_score| similar_4_trackid|similar_4_score| similar_5_trackid|similar_5_score| similar_6_trackid|similar_6_score| similar_7_trackid|similar_7_score| similar_8_trackid|similar_8_score| similar_9_trackid|similar_9_score|similar_10_trackid|similar_10_score|   top_tag|\n",
      "+------------------+------------+---------------+--------------------+------------------+---------------+------------------+---------------+------------------+---------------+------------------+---------------+------------------+---------------+------------------+---------------+------------------+---------------+------------------+---------------+------------------+---------------+------------------+----------------+----------+\n",
      "|TRNEPSF128E0785E21|Tribulations|LCD Soundsystem|[[electronic, 100...|TRSJBZE128E07863FB|              1|TRYZALB128E0785E22|              1|TRMCIPB128E0785E20|       0.890427|TRAUDSV128E07863F9|       0.890427|TRQVCZG128F92DDD9F|       0.192629|TRJAPND128F42507C5|       0.192629|TRWPSRA128F92C7B7B|       0.189737|TRGVOPW128F92C7B7A|       0.189737|TRENCUC128F9302ACC|       0.189737|TRSVXOL128F92C7B7D|        0.189737|electronic|\n",
      "+------------------+------------+---------------+--------------------+------------------+---------------+------------------+---------------+------------------+---------------+------------------+---------------+------------------+---------------+------------------+---------------+------------------+---------------+------------------+---------------+------------------+---------------+------------------+----------------+----------+\n",
      "only showing top 1 row"
     ]
    }
   ],
   "source": [
    "test.show(1)"
   ]
  },
  {
   "cell_type": "code",
   "execution_count": null,
   "metadata": {},
   "outputs": [],
   "source": []
  }
 ],
 "metadata": {
  "kernelspec": {
   "display_name": "PySpark",
   "language": "",
   "name": "pysparkkernel"
  },
  "language_info": {
   "codemirror_mode": {
    "name": "python",
    "version": 2
   },
   "mimetype": "text/x-python",
   "name": "pyspark",
   "pygments_lexer": "python2"
  }
 },
 "nbformat": 4,
 "nbformat_minor": 4
}
