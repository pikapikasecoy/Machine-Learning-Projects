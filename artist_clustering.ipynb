{
 "cells": [
  {
   "cell_type": "code",
   "execution_count": 1,
   "id": "quarterly-ambassador",
   "metadata": {},
   "outputs": [
    {
     "data": {
      "text/html": [
       "Current session configs: <tt>{'conf': {'spark.pyspark.python': 'python3', 'spark.pyspark.virtualenv.enabled': 'true', 'spark.pyspark.virtualenv.type': 'native', 'spark.pyspark.virtualenv.bin.path': '/usr/bin/virtualenv', 'spark.executor.heartbeatInterval': '10800s', 'spark.network.timeout': '24h', 'spark.driver.memory': '8G', 'spark.executor.memory': '8G', 'spark.executor.cores': '4', 'livy.server.session.timeout': '24h', 'spark.dynamicAllocation.enabled': 'false', 'spark.ext.h2o.fail.on.unsupported.spark.param': 'false', 'spark.app.name': 'msds694-group7'}, 'kind': 'pyspark'}</tt><br>"
      ],
      "text/plain": [
       "<IPython.core.display.HTML object>"
      ]
     },
     "metadata": {},
     "output_type": "display_data"
    },
    {
     "data": {
      "text/html": [
       "<table>\n",
       "<tr><th>ID</th><th>YARN Application ID</th><th>Kind</th><th>State</th><th>Spark UI</th><th>Driver log</th><th>Current session?</th></tr><tr><td>22</td><td>application_1615435774710_0013</td><td>pyspark</td><td>idle</td><td><a target=\"_blank\" href=\"http://ip-172-31-9-92.us-west-1.compute.internal:20888/proxy/application_1615435774710_0013/\">Link</a></td><td><a target=\"_blank\" href=\"http://ip-172-31-3-13.us-west-1.compute.internal:8042/node/containerlogs/container_1615435774710_0013_01_000001/livy\">Link</a></td><td></td></tr></table>"
      ],
      "text/plain": [
       "<IPython.core.display.HTML object>"
      ]
     },
     "metadata": {},
     "output_type": "display_data"
    }
   ],
   "source": [
    "%%configure -f \n",
    "{\n",
    "\"conf\":{\n",
    "        \"spark.pyspark.python\": \"python3\",\n",
    "        \"spark.pyspark.virtualenv.enabled\": \"true\",\n",
    "        \"spark.pyspark.virtualenv.type\":\"native\",\n",
    "        \"spark.pyspark.virtualenv.bin.path\":\"/usr/bin/virtualenv\",\n",
    "    \n",
    "        \"spark.executor.heartbeatInterval\":\"10800s\",\n",
    "        \"spark.network.timeout\":\"24h\",\n",
    "    \n",
    "        \"spark.driver.memory\": \"8G\",\n",
    "        \"spark.executor.memory\": \"8G\",\n",
    "        \"spark.executor.cores\":\"4\",\n",
    "    \n",
    "        \"livy.server.session.timeout\":\"24h\",\n",
    "    \n",
    "        \"spark.dynamicAllocation.enabled\":\"false\",\n",
    "        \"spark.ext.h2o.fail.on.unsupported.spark.param\":\"false\",    \n",
    "        \n",
    "        \"spark.app.name\":\"msds694-group7\"\n",
    "      }\n",
    "}"
   ]
  },
  {
   "cell_type": "code",
   "execution_count": 2,
   "id": "seasonal-arcade",
   "metadata": {},
   "outputs": [
    {
     "data": {
      "application/vnd.jupyter.widget-view+json": {
       "model_id": "01457cfa80964883b643eab88cd9ecb8",
       "version_major": 2,
       "version_minor": 0
      },
      "text/plain": [
       "VBox()"
      ]
     },
     "metadata": {},
     "output_type": "display_data"
    },
    {
     "name": "stdout",
     "output_type": "stream",
     "text": [
      "Starting Spark application\n"
     ]
    },
    {
     "data": {
      "text/html": [
       "<table>\n",
       "<tr><th>ID</th><th>YARN Application ID</th><th>Kind</th><th>State</th><th>Spark UI</th><th>Driver log</th><th>Current session?</th></tr><tr><td>25</td><td>application_1615435774710_0016</td><td>pyspark</td><td>idle</td><td></td><td></td><td>✔</td></tr></table>"
      ],
      "text/plain": [
       "<IPython.core.display.HTML object>"
      ]
     },
     "metadata": {},
     "output_type": "display_data"
    },
    {
     "data": {
      "application/vnd.jupyter.widget-view+json": {
       "model_id": "",
       "version_major": 2,
       "version_minor": 0
      },
      "text/plain": [
       "FloatProgress(value=0.0, bar_style='info', description='Progress:', layout=Layout(height='25px', width='50%'),…"
      ]
     },
     "metadata": {},
     "output_type": "display_data"
    },
    {
     "name": "stdout",
     "output_type": "stream",
     "text": [
      "SparkSession available as 'spark'.\n"
     ]
    },
    {
     "data": {
      "application/vnd.jupyter.widget-view+json": {
       "model_id": "",
       "version_major": 2,
       "version_minor": 0
      },
      "text/plain": [
       "FloatProgress(value=0.0, bar_style='info', description='Progress:', layout=Layout(height='25px', width='50%'),…"
      ]
     },
     "metadata": {},
     "output_type": "display_data"
    }
   ],
   "source": [
    "from pyspark.sql import SparkSession\n",
    "from pyspark.sql.types import *\n",
    "from pyspark.sql import Row\n",
    "from pyspark.sql.functions import *\n",
    "from pyspark.sql.window import Window\n",
    "\n",
    "from pyspark.ml.feature import HashingTF as MLHashingTF\n",
    "from pyspark.ml.feature import IDF as MLIDF\n",
    "from pyspark.ml.clustering import KMeans\n",
    "from pyspark.ml.evaluation import ClusteringEvaluator\n",
    "\n",
    "from collections import Counter"
   ]
  },
  {
   "cell_type": "code",
   "execution_count": 3,
   "id": "concrete-delhi",
   "metadata": {},
   "outputs": [
    {
     "data": {
      "application/vnd.jupyter.widget-view+json": {
       "model_id": "accb5bec887244d19780873b5248aa6e",
       "version_major": 2,
       "version_minor": 0
      },
      "text/plain": [
       "VBox()"
      ]
     },
     "metadata": {},
     "output_type": "display_data"
    },
    {
     "data": {
      "application/vnd.jupyter.widget-view+json": {
       "model_id": "",
       "version_major": 2,
       "version_minor": 0
      },
      "text/plain": [
       "FloatProgress(value=0.0, bar_style='info', description='Progress:', layout=Layout(height='25px', width='50%'),…"
      ]
     },
     "metadata": {},
     "output_type": "display_data"
    }
   ],
   "source": [
    "ss = SparkSession.builder.getOrCreate()\n",
    "sc = ss.sparkContext"
   ]
  },
  {
   "cell_type": "markdown",
   "id": "developing-vietnam",
   "metadata": {},
   "source": [
    "# Analytics Goal:\n",
    "\n",
    "* ### Artist Recommendation - Artist Clustering with tags of their music\n",
    "\n",
    "    * Extract top tag of each track, and combine all top_tags for each artist\n",
    "    * Drop artists with less than 2 tracks, as people are unlikely to follow artists with less than 2 tracks \n",
    "    * Drop tags covered by less than 2 artists, as these tags can be very specific to describe one artist, while not general enough\n",
    "    * Apply TFIDF algorithm to transform tags of each artist to a TFIDF vector\n",
    "    * Apply KMeans to cluster artists with TFIDF vectors\n",
    "    * Compare the clustering result with an assumend label \"most common tag\" of artists, and calculate the gini score with assumend label in each cluster"
   ]
  },
  {
   "cell_type": "markdown",
   "id": "coated-variance",
   "metadata": {},
   "source": [
    "# I. Load Data"
   ]
  },
  {
   "cell_type": "code",
   "execution_count": 4,
   "id": "aggressive-offer",
   "metadata": {
    "scrolled": true
   },
   "outputs": [
    {
     "data": {
      "application/vnd.jupyter.widget-view+json": {
       "model_id": "b33af22dbd0a4b85a04f02dbf7c36860",
       "version_major": 2,
       "version_minor": 0
      },
      "text/plain": [
       "VBox()"
      ]
     },
     "metadata": {},
     "output_type": "display_data"
    },
    {
     "data": {
      "application/vnd.jupyter.widget-view+json": {
       "model_id": "",
       "version_major": 2,
       "version_minor": 0
      },
      "text/plain": [
       "FloatProgress(value=0.0, bar_style='info', description='Progress:', layout=Layout(height='25px', width='50%'),…"
      ]
     },
     "metadata": {},
     "output_type": "display_data"
    }
   ],
   "source": [
    "train_path = \"s3a://msds694-final-group7/lastfm_train_clean/All/\"\n",
    "test_path = \"s3a://msds694-final-group7/lastfm_test_clean/All/\"\n",
    "lastfm_train_raw = ss.read.parquet(train_path).cache()\n",
    "lastfm_test_raw = ss.read.parquet(test_path).cache()"
   ]
  },
  {
   "cell_type": "code",
   "execution_count": 5,
   "id": "opponent-stamp",
   "metadata": {},
   "outputs": [
    {
     "data": {
      "application/vnd.jupyter.widget-view+json": {
       "model_id": "2c0024c8691e4071862463ef5ce5dadd",
       "version_major": 2,
       "version_minor": 0
      },
      "text/plain": [
       "VBox()"
      ]
     },
     "metadata": {},
     "output_type": "display_data"
    },
    {
     "data": {
      "application/vnd.jupyter.widget-view+json": {
       "model_id": "",
       "version_major": 2,
       "version_minor": 0
      },
      "text/plain": [
       "FloatProgress(value=0.0, bar_style='info', description='Progress:', layout=Layout(height='25px', width='50%'),…"
      ]
     },
     "metadata": {},
     "output_type": "display_data"
    }
   ],
   "source": [
    "from collections import Counter\n",
    "def most_common_tag(tags):\n",
    "    return Counter(tags).most_common(1)[0][0]\n",
    "most_common_tag_udf = udf(most_common_tag)"
   ]
  },
  {
   "cell_type": "code",
   "execution_count": 6,
   "id": "adverse-saint",
   "metadata": {},
   "outputs": [
    {
     "data": {
      "application/vnd.jupyter.widget-view+json": {
       "model_id": "202f7f9fbec54e96b4e347ad1f28a98f",
       "version_major": 2,
       "version_minor": 0
      },
      "text/plain": [
       "VBox()"
      ]
     },
     "metadata": {},
     "output_type": "display_data"
    },
    {
     "data": {
      "application/vnd.jupyter.widget-view+json": {
       "model_id": "",
       "version_major": 2,
       "version_minor": 0
      },
      "text/plain": [
       "FloatProgress(value=0.0, bar_style='info', description='Progress:', layout=Layout(height='25px', width='50%'),…"
      ]
     },
     "metadata": {},
     "output_type": "display_data"
    }
   ],
   "source": [
    "# Train\n",
    "artist_tags_train = lastfm_train_raw.select(\"artist\", \n",
    "                                               collect_list(col(\"top_tag\")).over(Window.partitionBy(\"artist\")).alias(\"tags\"))\\\n",
    "                                       .distinct()\\\n",
    "                                       .select(\"artist\", \"tags\", \n",
    "                                               most_common_tag_udf(\"tags\").alias(\"most_common_tag\"))\n",
    "# artist with more than 2 tracks\n",
    "artist_tags_train = artist_tags_train.filter(size(col(\"tags\")) > 2)\n",
    "\n",
    "# tags being applied to more than 2 artists\n",
    "artist_tags_train = artist_tags_train.select(\"artist\", \"tags\", \"most_common_tag\",\n",
    "                                             count(\"most_common_tag\").over(Window.partitionBy(\"most_common_tag\")).alias(\"mc_tag_count\"))\\\n",
    "                                     .filter(\"mc_tag_count > 2\").cache()\n",
    "\n",
    "\n",
    "# Test\n",
    "artist_tags_test = lastfm_test_raw.select(\"artist\", \n",
    "                                        collect_list(col(\"top_tag\")).over(Window.partitionBy(\"artist\")).alias(\"tags\"))\\\n",
    "                                  .distinct()\\\n",
    "                                  .select(\"artist\", \"tags\", \n",
    "                                          most_common_tag_udf(\"tags\").alias(\"most_common_tag\"))\n",
    "# artist with more than 2 tracks\n",
    "artist_tags_test = artist_tags_test.filter(size(col(\"tags\")) > 2)\n",
    "\n",
    "# tags being applied to more than 2 artists\n",
    "artist_tags_test = artist_tags_test.select(\"artist\", \"tags\", \"most_common_tag\",\n",
    "                                            count(\"most_common_tag\").over(Window.partitionBy(\"most_common_tag\")).alias(\"mc_tag_count\"))\\\n",
    "                                   .filter(\"mc_tag_count > 2\").cache()"
   ]
  },
  {
   "cell_type": "code",
   "execution_count": 7,
   "id": "elegant-warrant",
   "metadata": {},
   "outputs": [
    {
     "data": {
      "application/vnd.jupyter.widget-view+json": {
       "model_id": "774f226570e644b7b0a78c0e5e538c17",
       "version_major": 2,
       "version_minor": 0
      },
      "text/plain": [
       "VBox()"
      ]
     },
     "metadata": {},
     "output_type": "display_data"
    },
    {
     "data": {
      "application/vnd.jupyter.widget-view+json": {
       "model_id": "",
       "version_major": 2,
       "version_minor": 0
      },
      "text/plain": [
       "FloatProgress(value=0.0, bar_style='info', description='Progress:', layout=Layout(height='25px', width='50%'),…"
      ]
     },
     "metadata": {},
     "output_type": "display_data"
    },
    {
     "name": "stdout",
     "output_type": "stream",
     "text": [
      "+-------------------+------------------------------------------------------------------------------------------------------------------------------------------+---------------+------------+\n",
      "|artist             |tags                                                                                                                                      |most_common_tag|mc_tag_count|\n",
      "+-------------------+------------------------------------------------------------------------------------------------------------------------------------------+---------------+------------+\n",
      "|Los Toreros Muertos|[Rock en Espanol, marchosa, autocantantes, Spanish Rock, 800, 80s, Rock en Espanol, domingo, classic rock, spanish, Pilar, 800, divertida]|Rock en Espanol|15          |\n",
      "+-------------------+------------------------------------------------------------------------------------------------------------------------------------------+---------------+------------+\n",
      "only showing top 1 row"
     ]
    }
   ],
   "source": [
    "artist_tags_train.show(1, truncate=False)"
   ]
  },
  {
   "cell_type": "code",
   "execution_count": 8,
   "id": "electric-haiti",
   "metadata": {},
   "outputs": [
    {
     "data": {
      "application/vnd.jupyter.widget-view+json": {
       "model_id": "700914695c804d04ab0c3737d33ad75f",
       "version_major": 2,
       "version_minor": 0
      },
      "text/plain": [
       "VBox()"
      ]
     },
     "metadata": {},
     "output_type": "display_data"
    },
    {
     "data": {
      "application/vnd.jupyter.widget-view+json": {
       "model_id": "",
       "version_major": 2,
       "version_minor": 0
      },
      "text/plain": [
       "FloatProgress(value=0.0, bar_style='info', description='Progress:', layout=Layout(height='25px', width='50%'),…"
      ]
     },
     "metadata": {},
     "output_type": "display_data"
    },
    {
     "name": "stdout",
     "output_type": "stream",
     "text": [
      "+-----------+-------------------------------------------------------+-----------------+------------+\n",
      "|artist     |tags                                                   |most_common_tag  |mc_tag_count|\n",
      "+-----------+-------------------------------------------------------+-----------------+------------+\n",
      "|Phil Keaggy|[chilled worship, singer-songwriter, singer-songwriter]|singer-songwriter|7           |\n",
      "+-----------+-------------------------------------------------------+-----------------+------------+\n",
      "only showing top 1 row"
     ]
    }
   ],
   "source": [
    "artist_tags_test.show(1, truncate=False)"
   ]
  },
  {
   "cell_type": "markdown",
   "id": "female-making",
   "metadata": {},
   "source": [
    "# II. Convert tags to TFIDF Vectors"
   ]
  },
  {
   "cell_type": "code",
   "execution_count": 9,
   "id": "violent-upset",
   "metadata": {},
   "outputs": [
    {
     "data": {
      "application/vnd.jupyter.widget-view+json": {
       "model_id": "d7d65fdbc6dd425e90c169d66f8454a2",
       "version_major": 2,
       "version_minor": 0
      },
      "text/plain": [
       "VBox()"
      ]
     },
     "metadata": {},
     "output_type": "display_data"
    },
    {
     "data": {
      "application/vnd.jupyter.widget-view+json": {
       "model_id": "",
       "version_major": 2,
       "version_minor": 0
      },
      "text/plain": [
       "FloatProgress(value=0.0, bar_style='info', description='Progress:', layout=Layout(height='25px', width='50%'),…"
      ]
     },
     "metadata": {},
     "output_type": "display_data"
    },
    {
     "name": "stdout",
     "output_type": "stream",
     "text": [
      "+-------------------+------------------------------------------------------------------------------------------------------------------------------------------+---------------+------------+------------------------------------------------------------------------------------------------------------------------------+------------------------------------------------------------------------------------------------------------------------------------------------------------------------------------------------------------------------------------------------------------+\n",
      "|artist             |tags                                                                                                                                      |most_common_tag|mc_tag_count|tf                                                                                                                            |features                                                                                                                                                                                                                                                    |\n",
      "+-------------------+------------------------------------------------------------------------------------------------------------------------------------------+---------------+------------+------------------------------------------------------------------------------------------------------------------------------+------------------------------------------------------------------------------------------------------------------------------------------------------------------------------------------------------------------------------------------------------------+\n",
      "|Los Toreros Muertos|[Rock en Espanol, marchosa, autocantantes, Spanish Rock, 800, 80s, Rock en Espanol, domingo, classic rock, spanish, Pilar, 800, divertida]|Rock en Espanol|15          |(262144,[7720,26523,36868,54937,65647,76674,100459,109513,192316,241688,248869],[2.0,1.0,1.0,2.0,1.0,1.0,1.0,1.0,1.0,1.0,1.0])|(262144,[7720,26523,36868,54937,65647,76674,100459,109513,192316,241688,248869],[10.575902648597717,2.971709904857327,3.367358983227835,15.448135619834854,4.144525019840956,0.0,0.0,7.590536417292904,7.590536417292904,8.57136567030463,5.62692669113819])|\n",
      "+-------------------+------------------------------------------------------------------------------------------------------------------------------------------+---------------+------------+------------------------------------------------------------------------------------------------------------------------------+------------------------------------------------------------------------------------------------------------------------------------------------------------------------------------------------------------------------------------------------------------+\n",
      "only showing top 1 row"
     ]
    }
   ],
   "source": [
    "htf = MLHashingTF(inputCol=\"tags\", outputCol=\"tf\")\n",
    "tf_train = htf.transform(artist_tags_train)\n",
    "\n",
    "idf = MLIDF(inputCol=\"tf\", outputCol=\"features\", minDocFreq=2)\n",
    "tfidf_train = idf.fit(tf_train).transform(tf_train)\n",
    "tfidf_train.show(1, truncate=False)"
   ]
  },
  {
   "cell_type": "markdown",
   "id": "welsh-plaza",
   "metadata": {},
   "source": [
    "# III. Fit KMeans Model with different k"
   ]
  },
  {
   "cell_type": "code",
   "execution_count": 25,
   "id": "vulnerable-arabic",
   "metadata": {
    "scrolled": false
   },
   "outputs": [
    {
     "data": {
      "application/vnd.jupyter.widget-view+json": {
       "model_id": "c5196589b893469b8ec40912a5a16eb0",
       "version_major": 2,
       "version_minor": 0
      },
      "text/plain": [
       "VBox()"
      ]
     },
     "metadata": {},
     "output_type": "display_data"
    },
    {
     "data": {
      "application/vnd.jupyter.widget-view+json": {
       "model_id": "",
       "version_major": 2,
       "version_minor": 0
      },
      "text/plain": [
       "FloatProgress(value=0.0, bar_style='info', description='Progress:', layout=Layout(height='25px', width='50%'),…"
      ]
     },
     "metadata": {},
     "output_type": "display_data"
    },
    {
     "name": "stdout",
     "output_type": "stream",
     "text": [
      "k =    10, Silhouette with squared euclidean distance = 0.6202441204634463\n",
      "k =    20, Silhouette with squared euclidean distance = 0.20013679952638855\n",
      "k =    30, Silhouette with squared euclidean distance = 0.5240330855828701\n",
      "k =    40, Silhouette with squared euclidean distance = 0.3709844252926842\n",
      "k =    50, Silhouette with squared euclidean distance = 0.3219939147575743\n",
      "k =    60, Silhouette with squared euclidean distance = 0.23789567096324507"
     ]
    }
   ],
   "source": [
    "# Hand-Tuned HyperParameter with smallest Squared Euclidean Distance\n",
    "# Reason: Predictions could be imbalanced, which could make Cross Validation not suitable for KMeans\n",
    "k_list = [10, 20, 30, 40, 50, 60]\n",
    "silhouettes = [] \n",
    "for k in k_list:\n",
    "    kmeans =  KMeans(k = k, maxIter = 100) \n",
    "    model = kmeans.fit(tfidf_train)\n",
    "    predictions = model.transform(tfidf_train)\n",
    "    evaluator = ClusteringEvaluator()\n",
    "    silhouette = evaluator.evaluate(predictions)\n",
    "    silhouettes.append(silhouette)\n",
    "    print(f\"k = {k:>5}, Silhouette with squared euclidean distance = {silhouette}\")"
   ]
  },
  {
   "cell_type": "markdown",
   "id": "characteristic-phoenix",
   "metadata": {},
   "source": [
    "# IV. Best Model"
   ]
  },
  {
   "cell_type": "markdown",
   "id": "cloudy-reminder",
   "metadata": {},
   "source": [
    "The best model is the one with the local maximum silhouette with squared euclidean distance, which is 30. As 10 groups is usually not enough to describe artists with different genres, popularity and other features"
   ]
  },
  {
   "cell_type": "code",
   "execution_count": 10,
   "id": "typical-cheat",
   "metadata": {
    "scrolled": true
   },
   "outputs": [
    {
     "data": {
      "application/vnd.jupyter.widget-view+json": {
       "model_id": "c26c9aad12444b32bea9fe5c37ce4c27",
       "version_major": 2,
       "version_minor": 0
      },
      "text/plain": [
       "VBox()"
      ]
     },
     "metadata": {},
     "output_type": "display_data"
    },
    {
     "data": {
      "application/vnd.jupyter.widget-view+json": {
       "model_id": "",
       "version_major": 2,
       "version_minor": 0
      },
      "text/plain": [
       "FloatProgress(value=0.0, bar_style='info', description='Progress:', layout=Layout(height='25px', width='50%'),…"
      ]
     },
     "metadata": {},
     "output_type": "display_data"
    }
   ],
   "source": [
    "kmeans =  KMeans(k = 30, maxIter = 100) \n",
    "model = kmeans.fit(tfidf_train)\n",
    "predictions = model.transform(tfidf_train)"
   ]
  },
  {
   "cell_type": "markdown",
   "id": "wireless-tobago",
   "metadata": {},
   "source": [
    "* ## Check Componnets in Each Cluster"
   ]
  },
  {
   "cell_type": "code",
   "execution_count": 15,
   "id": "posted-feelings",
   "metadata": {
    "scrolled": true
   },
   "outputs": [
    {
     "data": {
      "application/vnd.jupyter.widget-view+json": {
       "model_id": "c530f333144b4e63acc4a882cba373f7",
       "version_major": 2,
       "version_minor": 0
      },
      "text/plain": [
       "VBox()"
      ]
     },
     "metadata": {},
     "output_type": "display_data"
    },
    {
     "data": {
      "application/vnd.jupyter.widget-view+json": {
       "model_id": "",
       "version_major": 2,
       "version_minor": 0
      },
      "text/plain": [
       "FloatProgress(value=0.0, bar_style='info', description='Progress:', layout=Layout(height='25px', width='50%'),…"
      ]
     },
     "metadata": {},
     "output_type": "display_data"
    },
    {
     "name": "stdout",
     "output_type": "stream",
     "text": [
      "+----------+-----+\n",
      "|prediction|count|\n",
      "+----------+-----+\n",
      "|         0|14460|\n",
      "|         1|   32|\n",
      "|         2|    4|\n",
      "|         3|   80|\n",
      "|         4|    8|\n",
      "|         5|    2|\n",
      "|         6|   73|\n",
      "|         7|   66|\n",
      "|         8|   22|\n",
      "|         9|   21|\n",
      "|        10|   25|\n",
      "|        11|   14|\n",
      "|        12|   27|\n",
      "|        13|   50|\n",
      "|        14|   92|\n",
      "|        15|   18|\n",
      "|        16|    9|\n",
      "|        17|   13|\n",
      "|        18|   95|\n",
      "|        19|   18|\n",
      "|        20|   29|\n",
      "|        21|    5|\n",
      "|        22|   10|\n",
      "|        23|  119|\n",
      "|        24|   19|\n",
      "|        25|   77|\n",
      "|        26|  242|\n",
      "|        27|  129|\n",
      "|        28|    3|\n",
      "|        29|   72|\n",
      "+----------+-----+"
     ]
    }
   ],
   "source": [
    "predictions.groupBy(\"prediction\").count().orderBy(\"prediction\").show(30)"
   ]
  },
  {
   "cell_type": "markdown",
   "id": "compressed-proposition",
   "metadata": {},
   "source": [
    "   * ### Check what's going on in cluster 0"
   ]
  },
  {
   "cell_type": "code",
   "execution_count": 14,
   "id": "liked-still",
   "metadata": {
    "scrolled": true
   },
   "outputs": [
    {
     "data": {
      "application/vnd.jupyter.widget-view+json": {
       "model_id": "f36fcac902574a5ab900c139a65c99e3",
       "version_major": 2,
       "version_minor": 0
      },
      "text/plain": [
       "VBox()"
      ]
     },
     "metadata": {},
     "output_type": "display_data"
    },
    {
     "data": {
      "application/vnd.jupyter.widget-view+json": {
       "model_id": "",
       "version_major": 2,
       "version_minor": 0
      },
      "text/plain": [
       "FloatProgress(value=0.0, bar_style='info', description='Progress:', layout=Layout(height='25px', width='50%'),…"
      ]
     },
     "metadata": {},
     "output_type": "display_data"
    },
    {
     "name": "stdout",
     "output_type": "stream",
     "text": [
      "+----------+----------+\n",
      "|prediction|min_tracks|\n",
      "+----------+----------+\n",
      "|0         |3         |\n",
      "|1         |26        |\n",
      "|2         |67        |\n",
      "|3         |26        |\n",
      "|4         |57        |\n",
      "|5         |118       |\n",
      "|6         |29        |\n",
      "|7         |19        |\n",
      "|8         |16        |\n",
      "|9         |28        |\n",
      "|10        |12        |\n",
      "|11        |29        |\n",
      "|12        |22        |\n",
      "|13        |20        |\n",
      "|14        |17        |\n",
      "|15        |17        |\n",
      "|16        |30        |\n",
      "|17        |22        |\n",
      "|18        |21        |\n",
      "|19        |23        |\n",
      "|20        |14        |\n",
      "|21        |46        |\n",
      "|22        |31        |\n",
      "|23        |22        |\n",
      "|24        |20        |\n",
      "|25        |26        |\n",
      "|26        |21        |\n",
      "|27        |16        |\n",
      "|28        |92        |\n",
      "|29        |27        |\n",
      "+----------+----------+"
     ]
    }
   ],
   "source": [
    "predictions.select(\"prediction\", \n",
    "                   min(size(col(\"tags\"))).over(Window.partitionBy(\"prediction\")).alias(\"min_tracks\"))\\\n",
    "            .distinct().orderBy(\"prediction\").show(30, truncate=False)"
   ]
  },
  {
   "cell_type": "code",
   "execution_count": 13,
   "id": "sized-humanity",
   "metadata": {},
   "outputs": [
    {
     "data": {
      "application/vnd.jupyter.widget-view+json": {
       "model_id": "1347510ebc4b4fee9f9f7a11253cb98d",
       "version_major": 2,
       "version_minor": 0
      },
      "text/plain": [
       "VBox()"
      ]
     },
     "metadata": {},
     "output_type": "display_data"
    },
    {
     "data": {
      "application/vnd.jupyter.widget-view+json": {
       "model_id": "",
       "version_major": 2,
       "version_minor": 0
      },
      "text/plain": [
       "FloatProgress(value=0.0, bar_style='info', description='Progress:', layout=Layout(height='25px', width='50%'),…"
      ]
     },
     "metadata": {},
     "output_type": "display_data"
    },
    {
     "name": "stdout",
     "output_type": "stream",
     "text": [
      "7014"
     ]
    }
   ],
   "source": [
    "predictions.filter(\"prediction == 0\")\\\n",
    "           .select(\"prediction\", size(col(\"tags\")).alias(\"num_tracks\"))\\\n",
    "           .filter(\"num_tracks < 12\").count()"
   ]
  },
  {
   "cell_type": "markdown",
   "id": "nasty-parker",
   "metadata": {},
   "source": [
    "* The number of instances in cluster 0 is much more than other clusters, as we checked the minimum number of tracks of artists in each cluster, we can see that all artists with less than 12 tracks(which happens to be the usual track number of a music album) are distributed in cluster 0, which contributes about 1/2 of cluster 0. The insignificance frequency of artists in the whole datasets make them undistinguishable with other artists, so they are all centered in the undistinguishable cluster 0."
   ]
  },
  {
   "cell_type": "markdown",
   "id": "japanese-reminder",
   "metadata": {},
   "source": [
    "* ## Calculate Gini Score based on \"the most common tag\" of each artist in each cluster"
   ]
  },
  {
   "cell_type": "code",
   "execution_count": 16,
   "id": "higher-tours",
   "metadata": {},
   "outputs": [
    {
     "data": {
      "application/vnd.jupyter.widget-view+json": {
       "model_id": "422fba40fc75485ca4e113ab1a584236",
       "version_major": 2,
       "version_minor": 0
      },
      "text/plain": [
       "VBox()"
      ]
     },
     "metadata": {},
     "output_type": "display_data"
    },
    {
     "data": {
      "application/vnd.jupyter.widget-view+json": {
       "model_id": "",
       "version_major": 2,
       "version_minor": 0
      },
      "text/plain": [
       "FloatProgress(value=0.0, bar_style='info', description='Progress:', layout=Layout(height='25px', width='50%'),…"
      ]
     },
     "metadata": {},
     "output_type": "display_data"
    }
   ],
   "source": [
    "def gini(tags):\n",
    "    \"\"\"\n",
    "    Use \"the most common tag\" as an assumed label,\n",
    "    Return the gini impurity score for values in each cluster\n",
    "    \"\"\"\n",
    "    tags_ct = Counter(tags)\n",
    "    gini_score = 1\n",
    "    for tag, ct in Counter(tags).items():\n",
    "        pi = (ct / len(tags))\n",
    "        gini_score = gini_score - pi ** 2\n",
    "    return gini_score\n",
    "gini_udf = udf(gini)"
   ]
  },
  {
   "cell_type": "code",
   "execution_count": 17,
   "id": "jewish-ending",
   "metadata": {},
   "outputs": [
    {
     "data": {
      "application/vnd.jupyter.widget-view+json": {
       "model_id": "dc2777b3a86a480883b377ef8f5be381",
       "version_major": 2,
       "version_minor": 0
      },
      "text/plain": [
       "VBox()"
      ]
     },
     "metadata": {},
     "output_type": "display_data"
    },
    {
     "data": {
      "application/vnd.jupyter.widget-view+json": {
       "model_id": "",
       "version_major": 2,
       "version_minor": 0
      },
      "text/plain": [
       "FloatProgress(value=0.0, bar_style='info', description='Progress:', layout=Layout(height='25px', width='50%'),…"
      ]
     },
     "metadata": {},
     "output_type": "display_data"
    }
   ],
   "source": [
    "pred_gini = predictions.select(\"prediction\",\n",
    "                               collect_list(col(\"most_common_tag\")).over(Window.partitionBy(\"prediction\")).alias(\"mc_tags\"),\n",
    "                               count(\"artist\").over(Window.partitionBy(\"prediction\")).alias(\"artist_count\"))\\\n",
    "                       .distinct()\\\n",
    "                       .withColumn(\"gini_score\", round(gini_udf(\"mc_tags\"), 4))\\\n",
    "                       .orderBy(\"prediction\")"
   ]
  },
  {
   "cell_type": "code",
   "execution_count": 19,
   "id": "sophisticated-environment",
   "metadata": {},
   "outputs": [
    {
     "data": {
      "application/vnd.jupyter.widget-view+json": {
       "model_id": "b92d6cf982d845539e54313e5d066906",
       "version_major": 2,
       "version_minor": 0
      },
      "text/plain": [
       "VBox()"
      ]
     },
     "metadata": {},
     "output_type": "display_data"
    },
    {
     "data": {
      "application/vnd.jupyter.widget-view+json": {
       "model_id": "",
       "version_major": 2,
       "version_minor": 0
      },
      "text/plain": [
       "FloatProgress(value=0.0, bar_style='info', description='Progress:', layout=Layout(height='25px', width='50%'),…"
      ]
     },
     "metadata": {},
     "output_type": "display_data"
    },
    {
     "name": "stdout",
     "output_type": "stream",
     "text": [
      "+----------+--------------------+------------+----------+\n",
      "|prediction|             mc_tags|artist_count|gini_score|\n",
      "+----------+--------------------+------------+----------+\n",
      "|         0|[vocal, vocal, vo...|       14460|    0.9869|\n",
      "|         1|[death metal, dea...|          32|       0.0|\n",
      "|         2|[Grunge, Grunge, ...|           4|       0.0|\n",
      "|         3|[blues rock, blue...|          80|    0.0247|\n",
      "|         4|[heavy metal, hea...|           8|       0.0|\n",
      "|         5|[guitar virtuoso,...|           2|       0.0|\n",
      "|         6|[blues rock, rock...|          73|    0.5885|\n",
      "|         7|[rap, rap, rap, r...|          66|    0.3586|\n",
      "|         8|[salsa, salsa, sa...|          22|       0.0|\n",
      "|         9|[rock, ska, ska, ...|          21|    0.0907|\n",
      "|        10|[Stoner Rock, Sto...|          25|    0.0768|\n",
      "|        11|[Melodic Death Me...|          14|       0.0|\n",
      "|        12|[black metal, bla...|          27|       0.0|\n",
      "|        13|[folk, folk, folk...|          50|    0.1152|\n",
      "|        14|[pop, pop, pop, n...|          92|    0.3894|\n",
      "|        15|[post-hardcore, e...|          18|    0.2037|\n",
      "|        16|[dance, dance, da...|           9|       0.0|\n",
      "|        17|[Flamenco, Flamen...|          13|     0.142|\n",
      "|        18|[punk rock, punk ...|          95|    0.3479|\n",
      "|        19|[Progressive meta...|          18|    0.1049|\n",
      "|        20|[funny, comedy, c...|          29|    0.0666|\n",
      "|        21|[acid jazz, acid ...|           5|       0.0|\n",
      "|        22|[trip-hop, trip-h...|          10|       0.0|\n",
      "|        23|[jazz, jazz, jazz...|         119|    0.0332|\n",
      "|        24|[Power metal, Pow...|          19|       0.0|\n",
      "|        25|[electronic, elec...|          77|    0.1956|\n",
      "|        26|[alternative, alt...|         242|    0.2242|\n",
      "|        27|[rnb, rnb, rnb, s...|         129|    0.1597|\n",
      "|        28|[female vocalists...|           3|       0.0|\n",
      "|        29|[pop, pop, pop, p...|          72|    0.0806|\n",
      "+----------+--------------------+------------+----------+"
     ]
    }
   ],
   "source": [
    "pred_gini.show(30)"
   ]
  },
  {
   "cell_type": "markdown",
   "id": "commercial-snowboard",
   "metadata": {},
   "source": [
    "   * ### Customized Weighted Gini Score for all clusters"
   ]
  },
  {
   "cell_type": "code",
   "execution_count": 20,
   "id": "elementary-alloy",
   "metadata": {},
   "outputs": [
    {
     "data": {
      "application/vnd.jupyter.widget-view+json": {
       "model_id": "071001b41252456e9175f9292f5f0ad7",
       "version_major": 2,
       "version_minor": 0
      },
      "text/plain": [
       "VBox()"
      ]
     },
     "metadata": {},
     "output_type": "display_data"
    },
    {
     "data": {
      "application/vnd.jupyter.widget-view+json": {
       "model_id": "",
       "version_major": 2,
       "version_minor": 0
      },
      "text/plain": [
       "FloatProgress(value=0.0, bar_style='info', description='Progress:', layout=Layout(height='25px', width='50%'),…"
      ]
     },
     "metadata": {},
     "output_type": "display_data"
    },
    {
     "name": "stdout",
     "output_type": "stream",
     "text": [
      "+------------------+\n",
      "| weighted_avg_gini|\n",
      "+------------------+\n",
      "|0.9174335733232285|\n",
      "+------------------+"
     ]
    }
   ],
   "source": [
    "pred_gini.withColumn(\"weighted\", col(\"gini_score\") * col(\"artist_count\"))\\\n",
    "         .select((sum(\"weighted\") / sum(\"artist_count\")).alias(\"weighted_avg_gini\")).show()"
   ]
  },
  {
   "cell_type": "markdown",
   "id": "relevant-retirement",
   "metadata": {},
   "source": [
    "   * ### Customized Weighted Gini Score for clusters except cluster 0"
   ]
  },
  {
   "cell_type": "code",
   "execution_count": 21,
   "id": "canadian-living",
   "metadata": {
    "scrolled": true
   },
   "outputs": [
    {
     "data": {
      "application/vnd.jupyter.widget-view+json": {
       "model_id": "abf6c9b368254cc39f1bc88fe7ed53ad",
       "version_major": 2,
       "version_minor": 0
      },
      "text/plain": [
       "VBox()"
      ]
     },
     "metadata": {},
     "output_type": "display_data"
    },
    {
     "data": {
      "application/vnd.jupyter.widget-view+json": {
       "model_id": "",
       "version_major": 2,
       "version_minor": 0
      },
      "text/plain": [
       "FloatProgress(value=0.0, bar_style='info', description='Progress:', layout=Layout(height='25px', width='50%'),…"
      ]
     },
     "metadata": {},
     "output_type": "display_data"
    },
    {
     "name": "stdout",
     "output_type": "stream",
     "text": [
      "+-------------------+\n",
      "|  weighted_avg_gini|\n",
      "+-------------------+\n",
      "|0.18636768558951963|\n",
      "+-------------------+"
     ]
    }
   ],
   "source": [
    "pred_gini.filter(\"prediction != 0\")\\\n",
    "         .withColumn(\"weighted\", col(\"gini_score\") * col(\"artist_count\"))\\\n",
    "         .select((sum(\"weighted\") / sum(\"artist_count\")).alias(\"weighted_avg_gini\")).show()"
   ]
  },
  {
   "cell_type": "markdown",
   "id": "aging-sandwich",
   "metadata": {},
   "source": [
    "#  V. Apply best model to test set"
   ]
  },
  {
   "cell_type": "markdown",
   "id": "rocky-marker",
   "metadata": {},
   "source": [
    "* ### Convert to TFIDF Vector"
   ]
  },
  {
   "cell_type": "code",
   "execution_count": 22,
   "id": "african-workstation",
   "metadata": {},
   "outputs": [
    {
     "data": {
      "application/vnd.jupyter.widget-view+json": {
       "model_id": "c01de55ddcfd4739b79a42196d4e665b",
       "version_major": 2,
       "version_minor": 0
      },
      "text/plain": [
       "VBox()"
      ]
     },
     "metadata": {},
     "output_type": "display_data"
    },
    {
     "data": {
      "application/vnd.jupyter.widget-view+json": {
       "model_id": "",
       "version_major": 2,
       "version_minor": 0
      },
      "text/plain": [
       "FloatProgress(value=0.0, bar_style='info', description='Progress:', layout=Layout(height='25px', width='50%'),…"
      ]
     },
     "metadata": {},
     "output_type": "display_data"
    },
    {
     "name": "stdout",
     "output_type": "stream",
     "text": [
      "+-----------+-------------------------------------------------------+-----------------+------------+----------------------------------+------------------------------------------------+\n",
      "|artist     |tags                                                   |most_common_tag  |mc_tag_count|tf                                |features                                        |\n",
      "+-----------+-------------------------------------------------------+-----------------+------------+----------------------------------+------------------------------------------------+\n",
      "|Phil Keaggy|[chilled worship, singer-songwriter, singer-songwriter]|singer-songwriter|7           |(262144,[251512,251872],[1.0,2.0])|(262144,[251512,251872],[0.0,7.234571601853855])|\n",
      "+-----------+-------------------------------------------------------+-----------------+------------+----------------------------------+------------------------------------------------+\n",
      "only showing top 1 row"
     ]
    }
   ],
   "source": [
    "htf = MLHashingTF(inputCol=\"tags\", outputCol=\"tf\")\n",
    "tf_test = htf.transform(artist_tags_test)\n",
    "\n",
    "idf = MLIDF(inputCol=\"tf\", outputCol=\"features\", minDocFreq=2)\n",
    "tfidf_test = idf.fit(tf_test).transform(tf_test)\n",
    "tfidf_test.show(1, truncate=False)"
   ]
  },
  {
   "cell_type": "markdown",
   "id": "interracial-devon",
   "metadata": {},
   "source": [
    "* ### Fit on KMeans Model"
   ]
  },
  {
   "cell_type": "code",
   "execution_count": 24,
   "id": "pleased-navigator",
   "metadata": {
    "scrolled": true
   },
   "outputs": [
    {
     "data": {
      "application/vnd.jupyter.widget-view+json": {
       "model_id": "e95eb6f2039a425e991a49100dda8253",
       "version_major": 2,
       "version_minor": 0
      },
      "text/plain": [
       "VBox()"
      ]
     },
     "metadata": {},
     "output_type": "display_data"
    },
    {
     "data": {
      "application/vnd.jupyter.widget-view+json": {
       "model_id": "",
       "version_major": 2,
       "version_minor": 0
      },
      "text/plain": [
       "FloatProgress(value=0.0, bar_style='info', description='Progress:', layout=Layout(height='25px', width='50%'),…"
      ]
     },
     "metadata": {},
     "output_type": "display_data"
    },
    {
     "name": "stdout",
     "output_type": "stream",
     "text": [
      "Silhouette with squared euclidean distance = 0.1948518883606591"
     ]
    }
   ],
   "source": [
    "kmeans =  KMeans(k = 30, maxIter = 100) \n",
    "model = kmeans.fit(tfidf_test)\n",
    "predictions = model.transform(tfidf_test)\n",
    "evaluator = ClusteringEvaluator()\n",
    "silhouette = evaluator.evaluate(predictions)\n",
    "print(f\"Silhouette with squared euclidean distance = {silhouette}\")"
   ]
  },
  {
   "cell_type": "markdown",
   "id": "close-journey",
   "metadata": {},
   "source": [
    "* ### Check Component of Each Cluster"
   ]
  },
  {
   "cell_type": "code",
   "execution_count": 30,
   "id": "allied-visiting",
   "metadata": {},
   "outputs": [
    {
     "data": {
      "application/vnd.jupyter.widget-view+json": {
       "model_id": "b6ead4a6f85243b88a95c41af00b0c6d",
       "version_major": 2,
       "version_minor": 0
      },
      "text/plain": [
       "VBox()"
      ]
     },
     "metadata": {},
     "output_type": "display_data"
    },
    {
     "data": {
      "application/vnd.jupyter.widget-view+json": {
       "model_id": "",
       "version_major": 2,
       "version_minor": 0
      },
      "text/plain": [
       "FloatProgress(value=0.0, bar_style='info', description='Progress:', layout=Layout(height='25px', width='50%'),…"
      ]
     },
     "metadata": {},
     "output_type": "display_data"
    },
    {
     "name": "stdout",
     "output_type": "stream",
     "text": [
      "+----------+-----+\n",
      "|prediction|count|\n",
      "+----------+-----+\n",
      "|         0|    6|\n",
      "|         1| 1817|\n",
      "|         2|    5|\n",
      "|         3|    3|\n",
      "|         4|    4|\n",
      "|         5|    1|\n",
      "|         6|    1|\n",
      "|         7|    1|\n",
      "|         8|    2|\n",
      "|         9|   11|\n",
      "|        10|    2|\n",
      "|        11|    7|\n",
      "|        12|    3|\n",
      "|        13|   28|\n",
      "|        14|   44|\n",
      "|        15|    2|\n",
      "|        16|    1|\n",
      "|        17|   27|\n",
      "|        18|    3|\n",
      "|        19|   10|\n",
      "|        20|    3|\n",
      "|        21|    1|\n",
      "|        22|   17|\n",
      "|        23|    1|\n",
      "|        24|   11|\n",
      "|        25|    2|\n",
      "|        26|   14|\n",
      "|        27|    2|\n",
      "|        28|    1|\n",
      "|        29|   17|\n",
      "+----------+-----+"
     ]
    }
   ],
   "source": [
    "predictions.groupBy(\"prediction\").count().orderBy(\"prediction\").show(30)"
   ]
  },
  {
   "cell_type": "markdown",
   "id": "anonymous-provider",
   "metadata": {},
   "source": [
    "* ### Calculate Customized Gini Score"
   ]
  },
  {
   "cell_type": "code",
   "execution_count": 26,
   "id": "previous-paint",
   "metadata": {},
   "outputs": [
    {
     "data": {
      "application/vnd.jupyter.widget-view+json": {
       "model_id": "6ebaeeb0826145d9946a94a4fb74054b",
       "version_major": 2,
       "version_minor": 0
      },
      "text/plain": [
       "VBox()"
      ]
     },
     "metadata": {},
     "output_type": "display_data"
    },
    {
     "data": {
      "application/vnd.jupyter.widget-view+json": {
       "model_id": "",
       "version_major": 2,
       "version_minor": 0
      },
      "text/plain": [
       "FloatProgress(value=0.0, bar_style='info', description='Progress:', layout=Layout(height='25px', width='50%'),…"
      ]
     },
     "metadata": {},
     "output_type": "display_data"
    }
   ],
   "source": [
    "pred_gini = predictions.select(\"prediction\",\n",
    "                               collect_list(col(\"most_common_tag\")).over(Window.partitionBy(\"prediction\")).alias(\"mc_tags\"),\n",
    "                               count(\"artist\").over(Window.partitionBy(\"prediction\")).alias(\"artist_count\"))\\\n",
    "                       .distinct()\\\n",
    "                       .withColumn(\"gini_score\", round(gini_udf(\"mc_tags\"), 4))\\\n",
    "                       .orderBy(\"prediction\")"
   ]
  },
  {
   "cell_type": "code",
   "execution_count": 29,
   "id": "racial-biography",
   "metadata": {
    "scrolled": true
   },
   "outputs": [
    {
     "data": {
      "application/vnd.jupyter.widget-view+json": {
       "model_id": "cf1f98344e73497cb177ac86ae92f38c",
       "version_major": 2,
       "version_minor": 0
      },
      "text/plain": [
       "VBox()"
      ]
     },
     "metadata": {},
     "output_type": "display_data"
    },
    {
     "data": {
      "application/vnd.jupyter.widget-view+json": {
       "model_id": "",
       "version_major": 2,
       "version_minor": 0
      },
      "text/plain": [
       "FloatProgress(value=0.0, bar_style='info', description='Progress:', layout=Layout(height='25px', width='50%'),…"
      ]
     },
     "metadata": {},
     "output_type": "display_data"
    },
    {
     "name": "stdout",
     "output_type": "stream",
     "text": [
      "+----------+--------------------+------------+----------+\n",
      "|prediction|             mc_tags|artist_count|gini_score|\n",
      "+----------+--------------------+------------+----------+\n",
      "|         0|[electronic, elec...|           6|       0.0|\n",
      "|         1|[singer-songwrite...|        1817|    0.9821|\n",
      "|         2|[blues, blues, bl...|           5|       0.0|\n",
      "|         3|[Progressive rock...|           3|       0.0|\n",
      "|         4|[Gothic Rock, Got...|           4|       0.0|\n",
      "|         5|         [metalcore]|           1|       0.0|\n",
      "|         6|    [christian rock]|           1|       0.0|\n",
      "|         7|            [comedy]|           1|       0.0|\n",
      "|         8|[rockabilly, rock...|           2|       0.0|\n",
      "|         9|[dub, reggae, reg...|          11|    0.1653|\n",
      "|        10|[bluegrass, blueg...|           2|       0.0|\n",
      "|        11|[industrial metal...|           7|    0.2449|\n",
      "|        12|[heavy metal, hea...|           3|       0.0|\n",
      "|        13|[folk, folk, folk...|          28|     0.199|\n",
      "|        14|[rnb, rnb, rnb, r...|          44|    0.6622|\n",
      "|        15|[afrobeat, afrobeat]|           2|       0.0|\n",
      "|        16|       [black metal]|           1|       0.0|\n",
      "|        17|[jazz, jazz, jazz...|          27|    0.1372|\n",
      "|        18|[grindcore, grind...|           3|    0.4444|\n",
      "|        19|[Bossa Nova, bras...|          10|      0.54|\n",
      "|        20|[piano, piano, pi...|           3|       0.0|\n",
      "|        21|      [thrash metal]|           1|       0.0|\n",
      "|        22|[country, country...|          17|       0.0|\n",
      "|        23|           [country]|           1|       0.0|\n",
      "|        24|[classic rock, cl...|          11|    0.6116|\n",
      "|        25|  [african, african]|           2|       0.0|\n",
      "|        26|[Progressive meta...|          14|    0.3673|\n",
      "|        27|          [ska, ska]|           2|       0.0|\n",
      "|        28|         [post-rock]|           1|       0.0|\n",
      "|        29|[ambient, ambient...|          17|    0.2145|\n",
      "+----------+--------------------+------------+----------+"
     ]
    }
   ],
   "source": [
    "pred_gini.show(30)"
   ]
  },
  {
   "cell_type": "code",
   "execution_count": 31,
   "id": "chicken-cabin",
   "metadata": {},
   "outputs": [
    {
     "data": {
      "application/vnd.jupyter.widget-view+json": {
       "model_id": "c85fc2366fbf415cb9ee48822b70663c",
       "version_major": 2,
       "version_minor": 0
      },
      "text/plain": [
       "VBox()"
      ]
     },
     "metadata": {},
     "output_type": "display_data"
    },
    {
     "data": {
      "application/vnd.jupyter.widget-view+json": {
       "model_id": "",
       "version_major": 2,
       "version_minor": 0
      },
      "text/plain": [
       "FloatProgress(value=0.0, bar_style='info', description='Progress:', layout=Layout(height='25px', width='50%'),…"
      ]
     },
     "metadata": {},
     "output_type": "display_data"
    },
    {
     "name": "stdout",
     "output_type": "stream",
     "text": [
      "+------------------+\n",
      "| weighted_avg_gini|\n",
      "+------------------+\n",
      "|0.9031123595505618|\n",
      "+------------------+"
     ]
    }
   ],
   "source": [
    "pred_gini.withColumn(\"weighted\", col(\"gini_score\") * col(\"artist_count\"))\\\n",
    "         .select((sum(\"weighted\") / sum(\"artist_count\")).alias(\"weighted_avg_gini\")).show()"
   ]
  },
  {
   "cell_type": "code",
   "execution_count": 32,
   "id": "cardiovascular-strand",
   "metadata": {},
   "outputs": [
    {
     "data": {
      "application/vnd.jupyter.widget-view+json": {
       "model_id": "33d1cc1da0944abcae79637935457283",
       "version_major": 2,
       "version_minor": 0
      },
      "text/plain": [
       "VBox()"
      ]
     },
     "metadata": {},
     "output_type": "display_data"
    },
    {
     "data": {
      "application/vnd.jupyter.widget-view+json": {
       "model_id": "",
       "version_major": 2,
       "version_minor": 0
      },
      "text/plain": [
       "FloatProgress(value=0.0, bar_style='info', description='Progress:', layout=Layout(height='25px', width='50%'),…"
      ]
     },
     "metadata": {},
     "output_type": "display_data"
    },
    {
     "name": "stdout",
     "output_type": "stream",
     "text": [
      "+-----------------+\n",
      "|weighted_avg_gini|\n",
      "+-----------------+\n",
      "|          0.27911|\n",
      "+-----------------+"
     ]
    }
   ],
   "source": [
    "pred_gini.filter(\"prediction != 1\")\\\n",
    "         .withColumn(\"weighted\", col(\"gini_score\") * col(\"artist_count\"))\\\n",
    "         .select((sum(\"weighted\") / sum(\"artist_count\")).alias(\"weighted_avg_gini\")).show()"
   ]
  },
  {
   "cell_type": "markdown",
   "id": "saved-saver",
   "metadata": {},
   "source": [
    "# VI. Summary:"
   ]
  },
  {
   "cell_type": "markdown",
   "id": "conditional-elite",
   "metadata": {},
   "source": [
    "## Pros:\n",
    "* Tags include composite information like popularity, genre and ages of artist, which can usually better identify an artist.\n",
    "* Looks Good at clustering artists with more than 8 tracks, and artists with more common tags. In another word, seems more suitable to cluster popular artists.\n",
    "\n",
    "## Cons:\n",
    "* Tags are very diversal, but each artist will have no more than 10 distinct tags, which makes the TFIDF vector of each artist a very sparse one, so when we do the clustering based on this extremely sparse metrix, it leads to a very imbalanced result. The influence to the real application of artist recommendation is that it will cluster all artists with less production and tags to a large cluster, which is not suitable to distinguish artists of special interest.\n",
    "\n",
    "* Clusters produced by KMeans are not reproducible since it's a non-parametric model. Once we fit it on the training dataset, when we refit it on the test dataset, even though we are using the same number of clusters, the clusters are actually different with the original ones. It means that in the real business world, if we are going to do artist recommendations based on the clustering result, when some new artists come into the group, we are not able to cluster them in given clusters, but can only create new clusters, which seems expensive.\n",
    "\n",
    "## Following Directions:\n",
    "* Try to use some other more general features like birth year, genre, nationality, etc to cluster or classify artists instead of using tags, and compare the result with this one.\n",
    "* Try to decomposite the components in cluster 0 more thoroughly, and find some more approriate way to cluster or classify those artists not that popular but takes the majority population of artists."
   ]
  },
  {
   "cell_type": "code",
   "execution_count": null,
   "id": "controlled-public",
   "metadata": {},
   "outputs": [],
   "source": []
  }
 ],
 "metadata": {
  "kernelspec": {
   "display_name": "PySpark",
   "language": "",
   "name": "pysparkkernel"
  },
  "language_info": {
   "codemirror_mode": {
    "name": "python",
    "version": 2
   },
   "mimetype": "text/x-python",
   "name": "pyspark",
   "pygments_lexer": "python2"
  }
 },
 "nbformat": 4,
 "nbformat_minor": 5
}
